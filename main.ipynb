{
 "metadata": {
  "language_info": {
   "codemirror_mode": {
    "name": "ipython",
    "version": 3
   },
   "file_extension": ".py",
   "mimetype": "text/x-python",
   "name": "python",
   "nbconvert_exporter": "python",
   "pygments_lexer": "ipython3",
   "version": "3.8.5"
  },
  "orig_nbformat": 2,
  "kernelspec": {
   "name": "python385jvsc74a57bd066e4a4b7c121db4243309d1eb7f3fba70ad006b305f754897095e92fca8ac47b",
   "display_name": "Python 3.8.5 64-bit ('base': conda)"
  }
 },
 "nbformat": 4,
 "nbformat_minor": 2,
 "cells": [
  {
   "cell_type": "code",
   "execution_count": 1,
   "metadata": {},
   "outputs": [],
   "source": [
    "import pandas as pd"
   ]
  },
  {
   "cell_type": "code",
   "execution_count": 2,
   "metadata": {},
   "outputs": [],
   "source": [
    "cities=pd.read_csv(\"Resources/cities.csv\")"
   ]
  },
  {
   "cell_type": "code",
   "execution_count": 3,
   "metadata": {},
   "outputs": [
    {
     "output_type": "execute_result",
     "data": {
      "text/plain": [
       "     City_ID          City Country        Date    Lat     Lng  Max Temp  \\\n",
       "0          0  jacareacanga      BR  1528902000  -6.22  -57.76     89.60   \n",
       "1          1    kaitangata      NZ  1528905304 -46.28  169.85     42.61   \n",
       "2          2      goulburn      AU  1528905078 -34.75  149.72     44.32   \n",
       "3          3          lata      IN  1528905305  30.78   78.62     59.89   \n",
       "4          4    chokurdakh      RU  1528905306  70.62  147.90     32.17   \n",
       "..       ...           ...     ...         ...    ...     ...       ...   \n",
       "542      542        scalea      IT  1528905631  39.82   15.79     70.06   \n",
       "543      543    san andres      PH  1528905632  13.32  122.68     83.47   \n",
       "544      544        muisne      EC  1528905633   0.61  -80.02     76.90   \n",
       "545      545           ati      TD  1528905633  13.21   18.34    104.53   \n",
       "546      546      san luis      AR  1528905472 -33.30  -66.34     42.43   \n",
       "\n",
       "     Humidity  Cloudiness  Wind Speed  \n",
       "0          62           0        6.93  \n",
       "1          94         100        5.64  \n",
       "2          91          20       10.11  \n",
       "3          89          76        0.94  \n",
       "4          88           0        2.95  \n",
       "..        ...         ...         ...  \n",
       "542       100          36        5.30  \n",
       "543       100          68       22.64  \n",
       "544        84          92        4.63  \n",
       "545        25          20        4.97  \n",
       "546        53           0        2.62  \n",
       "\n",
       "[547 rows x 10 columns]"
      ],
      "text/html": "<div>\n<style scoped>\n    .dataframe tbody tr th:only-of-type {\n        vertical-align: middle;\n    }\n\n    .dataframe tbody tr th {\n        vertical-align: top;\n    }\n\n    .dataframe thead th {\n        text-align: right;\n    }\n</style>\n<table border=\"1\" class=\"dataframe\">\n  <thead>\n    <tr style=\"text-align: right;\">\n      <th></th>\n      <th>City_ID</th>\n      <th>City</th>\n      <th>Country</th>\n      <th>Date</th>\n      <th>Lat</th>\n      <th>Lng</th>\n      <th>Max Temp</th>\n      <th>Humidity</th>\n      <th>Cloudiness</th>\n      <th>Wind Speed</th>\n    </tr>\n  </thead>\n  <tbody>\n    <tr>\n      <th>0</th>\n      <td>0</td>\n      <td>jacareacanga</td>\n      <td>BR</td>\n      <td>1528902000</td>\n      <td>-6.22</td>\n      <td>-57.76</td>\n      <td>89.60</td>\n      <td>62</td>\n      <td>0</td>\n      <td>6.93</td>\n    </tr>\n    <tr>\n      <th>1</th>\n      <td>1</td>\n      <td>kaitangata</td>\n      <td>NZ</td>\n      <td>1528905304</td>\n      <td>-46.28</td>\n      <td>169.85</td>\n      <td>42.61</td>\n      <td>94</td>\n      <td>100</td>\n      <td>5.64</td>\n    </tr>\n    <tr>\n      <th>2</th>\n      <td>2</td>\n      <td>goulburn</td>\n      <td>AU</td>\n      <td>1528905078</td>\n      <td>-34.75</td>\n      <td>149.72</td>\n      <td>44.32</td>\n      <td>91</td>\n      <td>20</td>\n      <td>10.11</td>\n    </tr>\n    <tr>\n      <th>3</th>\n      <td>3</td>\n      <td>lata</td>\n      <td>IN</td>\n      <td>1528905305</td>\n      <td>30.78</td>\n      <td>78.62</td>\n      <td>59.89</td>\n      <td>89</td>\n      <td>76</td>\n      <td>0.94</td>\n    </tr>\n    <tr>\n      <th>4</th>\n      <td>4</td>\n      <td>chokurdakh</td>\n      <td>RU</td>\n      <td>1528905306</td>\n      <td>70.62</td>\n      <td>147.90</td>\n      <td>32.17</td>\n      <td>88</td>\n      <td>0</td>\n      <td>2.95</td>\n    </tr>\n    <tr>\n      <th>...</th>\n      <td>...</td>\n      <td>...</td>\n      <td>...</td>\n      <td>...</td>\n      <td>...</td>\n      <td>...</td>\n      <td>...</td>\n      <td>...</td>\n      <td>...</td>\n      <td>...</td>\n    </tr>\n    <tr>\n      <th>542</th>\n      <td>542</td>\n      <td>scalea</td>\n      <td>IT</td>\n      <td>1528905631</td>\n      <td>39.82</td>\n      <td>15.79</td>\n      <td>70.06</td>\n      <td>100</td>\n      <td>36</td>\n      <td>5.30</td>\n    </tr>\n    <tr>\n      <th>543</th>\n      <td>543</td>\n      <td>san andres</td>\n      <td>PH</td>\n      <td>1528905632</td>\n      <td>13.32</td>\n      <td>122.68</td>\n      <td>83.47</td>\n      <td>100</td>\n      <td>68</td>\n      <td>22.64</td>\n    </tr>\n    <tr>\n      <th>544</th>\n      <td>544</td>\n      <td>muisne</td>\n      <td>EC</td>\n      <td>1528905633</td>\n      <td>0.61</td>\n      <td>-80.02</td>\n      <td>76.90</td>\n      <td>84</td>\n      <td>92</td>\n      <td>4.63</td>\n    </tr>\n    <tr>\n      <th>545</th>\n      <td>545</td>\n      <td>ati</td>\n      <td>TD</td>\n      <td>1528905633</td>\n      <td>13.21</td>\n      <td>18.34</td>\n      <td>104.53</td>\n      <td>25</td>\n      <td>20</td>\n      <td>4.97</td>\n    </tr>\n    <tr>\n      <th>546</th>\n      <td>546</td>\n      <td>san luis</td>\n      <td>AR</td>\n      <td>1528905472</td>\n      <td>-33.30</td>\n      <td>-66.34</td>\n      <td>42.43</td>\n      <td>53</td>\n      <td>0</td>\n      <td>2.62</td>\n    </tr>\n  </tbody>\n</table>\n<p>547 rows × 10 columns</p>\n</div>"
     },
     "metadata": {},
     "execution_count": 3
    }
   ],
   "source": [
    "cities=cities[[\"City_ID\",\"City\",\"Country\",\"Date\",\"Lat\",\"Lng\",\"Max Temp\",\n",
    "                \"Humidity\",\"Cloudiness\",\"Wind Speed\"]]\n",
    "cities"
   ]
  },
  {
   "cell_type": "code",
   "execution_count": 4,
   "metadata": {},
   "outputs": [],
   "source": [
    "cities=cities.to_html(\"Resources/cities.html\")"
   ]
  },
  {
   "cell_type": "code",
   "execution_count": null,
   "metadata": {},
   "outputs": [],
   "source": []
  }
 ]
}